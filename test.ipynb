{
 "cells": [
  {
   "cell_type": "code",
   "execution_count": 3,
   "metadata": {},
   "outputs": [],
   "source": [
    "from operator import and_, le, pos\n",
    "from functools import reduce"
   ]
  },
  {
   "cell_type": "code",
   "execution_count": 4,
   "metadata": {},
   "outputs": [
    {
     "name": "stdout",
     "output_type": "stream",
     "text": [
      "exclusion: {'\\u3000', ' '}\n",
      "天気Django\n"
     ]
    }
   ],
   "source": [
    "keyword = [\"天気\", \" \", \"　\", \"Django\"]\n",
    "\n",
    "if keyword:\n",
    "    exclusion = set([' ','　'])\n",
    "    print(f\"exclusion: {exclusion}\")\n",
    "    query_list = ''\n",
    "\n",
    "    for word in keyword:\n",
    "        if not word in exclusion:\n",
    "            query_list += word\n",
    "print(query_list)\n",
    "        # query = reduce(and_, [Q(title__icontains=q)|Q(discription__icontains=q) for q in query_list])\n",
    "        # post_list = post_list.filter(query)\n",
    "        # count_post = len(post_list)"
   ]
  },
  {
   "cell_type": "code",
   "execution_count": 5,
   "metadata": {},
   "outputs": [],
   "source": [
    "from django.db.models import Q\n",
    "from functools import reduce\n",
    "from operator import and_"
   ]
  },
  {
   "cell_type": "code",
   "execution_count": 6,
   "metadata": {},
   "outputs": [],
   "source": [
    "from operator import add"
   ]
  },
  {
   "cell_type": "code",
   "execution_count": 7,
   "metadata": {},
   "outputs": [
    {
     "name": "stdout",
     "output_type": "stream",
     "text": [
      "15\n"
     ]
    }
   ],
   "source": [
    "x = [1, 2, 3, 4, 5]\n",
    "y = 0\n",
    "for i in x:\n",
    "    y += i\n",
    "print(y)"
   ]
  },
  {
   "cell_type": "code",
   "execution_count": 8,
   "metadata": {},
   "outputs": [
    {
     "data": {
      "text/plain": [
       "10"
      ]
     },
     "execution_count": 8,
     "metadata": {},
     "output_type": "execute_result"
    }
   ],
   "source": [
    "reduce(add, [5, 5])"
   ]
  },
  {
   "cell_type": "code",
   "execution_count": 9,
   "metadata": {},
   "outputs": [
    {
     "data": {
      "text/plain": [
       "15"
      ]
     },
     "execution_count": 9,
     "metadata": {},
     "output_type": "execute_result"
    }
   ],
   "source": [
    "reduce(add, x)"
   ]
  },
  {
   "cell_type": "code",
   "execution_count": 10,
   "metadata": {},
   "outputs": [
    {
     "name": "stdout",
     "output_type": "stream",
     "text": [
      "False\n",
      "False\n",
      "False\n",
      "False\n"
     ]
    }
   ],
   "source": [
    "print(reduce(and_, [True, False]))\n",
    "print(reduce(and_, [True, True, False]))\n",
    "print(reduce(and_, [False, False]))\n",
    "print(reduce(and_, [False, True]))"
   ]
  },
  {
   "cell_type": "code",
   "execution_count": 11,
   "metadata": {},
   "outputs": [
    {
     "data": {
      "text/plain": [
       "<Q: (AND: ('title__icontains', 'mecab\\u3000形態素解析 python'))>"
      ]
     },
     "execution_count": 11,
     "metadata": {},
     "output_type": "execute_result"
    }
   ],
   "source": [
    "keyword = 'mecab　形態素解析 python'\n",
    "Q(title__icontains=keyword)"
   ]
  },
  {
   "cell_type": "code",
   "execution_count": 12,
   "metadata": {},
   "outputs": [
    {
     "data": {
      "text/plain": [
       "<Q: (AND: ('title__title__icontainsdescription', 'mecab\\u3000形態素解析 python'))>"
      ]
     },
     "execution_count": 12,
     "metadata": {},
     "output_type": "execute_result"
    }
   ],
   "source": [
    "Q(title__title__icontainsdescription=keyword)"
   ]
  },
  {
   "cell_type": "code",
   "execution_count": 13,
   "metadata": {},
   "outputs": [
    {
     "data": {
      "text/plain": [
       "['m',\n",
       " 'e',\n",
       " 'c',\n",
       " 'a',\n",
       " 'b',\n",
       " '\\u3000',\n",
       " '形',\n",
       " '態',\n",
       " '素',\n",
       " '解',\n",
       " '析',\n",
       " ' ',\n",
       " 'p',\n",
       " 'y',\n",
       " 't',\n",
       " 'h',\n",
       " 'o',\n",
       " 'n']"
      ]
     },
     "execution_count": 13,
     "metadata": {},
     "output_type": "execute_result"
    }
   ],
   "source": [
    "[q for q in keyword]"
   ]
  },
  {
   "cell_type": "code",
   "execution_count": 14,
   "metadata": {},
   "outputs": [
    {
     "data": {
      "text/plain": [
       "[0, 1, 2, 3, 4, 5, 6, 7, 8, 9]"
      ]
     },
     "execution_count": 14,
     "metadata": {},
     "output_type": "execute_result"
    }
   ],
   "source": [
    "l = [i for i in range(10)]\n",
    "l"
   ]
  },
  {
   "cell_type": "code",
   "execution_count": 15,
   "metadata": {},
   "outputs": [
    {
     "name": "stdout",
     "output_type": "stream",
     "text": [
      "[0, 1, 2, 3, 4, 5, 6, 7, 8, 9]\n"
     ]
    }
   ],
   "source": [
    "l = []\n",
    "for i in range(10):\n",
    "  l.append(i)\n",
    "print(l)"
   ]
  },
  {
   "cell_type": "code",
   "execution_count": 16,
   "metadata": {},
   "outputs": [
    {
     "data": {
      "text/plain": [
       "[<Q: (AND: ('title__icontains', 'mecab\\u3000形態素解析 python'))>]"
      ]
     },
     "execution_count": 16,
     "metadata": {},
     "output_type": "execute_result"
    }
   ],
   "source": [
    "[Q(title__icontains=keyword)]"
   ]
  },
  {
   "cell_type": "code",
   "execution_count": 17,
   "metadata": {},
   "outputs": [
    {
     "name": "stdout",
     "output_type": "stream",
     "text": [
      "(AND: ('title__icontains', 'mecab\\u3000形態素解析 python'))\n"
     ]
    }
   ],
   "source": [
    "y = reduce(and_, [Q(title__icontains=keyword)])\n",
    "print(y)"
   ]
  },
  {
   "cell_type": "code",
   "execution_count": 18,
   "metadata": {},
   "outputs": [
    {
     "data": {
      "text/plain": [
       "[<Q: (AND: ('title__icontains', 'm'))>,\n",
       " <Q: (AND: ('title__icontains', 'e'))>,\n",
       " <Q: (AND: ('title__icontains', 'c'))>]"
      ]
     },
     "execution_count": 18,
     "metadata": {},
     "output_type": "execute_result"
    }
   ],
   "source": [
    "[Q(title__icontains=q) for q in keyword][:3]"
   ]
  },
  {
   "cell_type": "code",
   "execution_count": 27,
   "metadata": {},
   "outputs": [
    {
     "data": {
      "text/plain": [
       "<Q: (AND: ('title__icontains', 'm'), ('title__icontains', 'e'), ('title__icontains', 'c'))>"
      ]
     },
     "execution_count": 27,
     "metadata": {},
     "output_type": "execute_result"
    }
   ],
   "source": [
    "reduce(and_, [Q(title__icontains=q) for q in keyword][:3])"
   ]
  },
  {
   "cell_type": "code",
   "execution_count": 20,
   "metadata": {},
   "outputs": [
    {
     "name": "stdout",
     "output_type": "stream",
     "text": [
      "(AND: ('title__icontains', 'm'), ('title__icontains', 'e'), ('title__icontains', 'c'), ('title__icontains', 'a'), ('title__icontains', 'b'), ('title__icontains', '\\u3000'), ('title__icontains', '形'), ('title__icontains', '態'), ('title__icontains', '素'), ('title__icontains', '解'), ('title__icontains', '析'), ('title__icontains', ' '), ('title__icontains', 'p'), ('title__icontains', 'y'), ('title__icontains', 't'), ('title__icontains', 'h'), ('title__icontains', 'o'), ('title__icontains', 'n'))\n"
     ]
    }
   ],
   "source": [
    "y = reduce(and_, [Q(title__icontains=q) for q in keyword])\n",
    "print(y)"
   ]
  },
  {
   "cell_type": "code",
   "execution_count": 21,
   "metadata": {},
   "outputs": [
    {
     "data": {
      "text/plain": [
       "<Q: (AND: (OR: ('title__icontains', 'm'), ('discription__icontains', 'm')), (OR: ('title__icontains', 'e'), ('discription__icontains', 'e')), (OR: ('title__icontains', 'c'), ('discription__icontains', 'c')), (OR: ('title__icontains', 'a'), ('discription__icontains', 'a')), (OR: ('title__icontains', 'b'), ('discription__icontains', 'b')), (OR: ('title__icontains', '\\u3000'), ('discription__icontains', '\\u3000')), (OR: ('title__icontains', '形'), ('discription__icontains', '形')), (OR: ('title__icontains', '態'), ('discription__icontains', '態')), (OR: ('title__icontains', '素'), ('discription__icontains', '素')), (OR: ('title__icontains', '解'), ('discription__icontains', '解')), (OR: ('title__icontains', '析'), ('discription__icontains', '析')), (OR: ('title__icontains', ' '), ('discription__icontains', ' ')), (OR: ('title__icontains', 'p'), ('discription__icontains', 'p')), (OR: ('title__icontains', 'y'), ('discription__icontains', 'y')), (OR: ('title__icontains', 't'), ('discription__icontains', 't')), (OR: ('title__icontains', 'h'), ('discription__icontains', 'h')), (OR: ('title__icontains', 'o'), ('discription__icontains', 'o')), (OR: ('title__icontains', 'n'), ('discription__icontains', 'n')))>"
      ]
     },
     "execution_count": 21,
     "metadata": {},
     "output_type": "execute_result"
    }
   ],
   "source": [
    "query = reduce(and_, [Q(title__icontains=q)|Q(discription__icontains=q) for q in keyword])\n",
    "query"
   ]
  },
  {
   "cell_type": "code",
   "execution_count": 22,
   "metadata": {},
   "outputs": [
    {
     "data": {
      "text/plain": [
       "[<Q: (OR: ('title__icontains', 'm'), ('discription__icontains', 'm'))>,\n",
       " <Q: (OR: ('title__icontains', 'e'), ('discription__icontains', 'e'))>,\n",
       " <Q: (OR: ('title__icontains', 'c'), ('discription__icontains', 'c'))>,\n",
       " <Q: (OR: ('title__icontains', 'a'), ('discription__icontains', 'a'))>,\n",
       " <Q: (OR: ('title__icontains', 'b'), ('discription__icontains', 'b'))>,\n",
       " <Q: (OR: ('title__icontains', '\\u3000'), ('discription__icontains', '\\u3000'))>,\n",
       " <Q: (OR: ('title__icontains', '形'), ('discription__icontains', '形'))>,\n",
       " <Q: (OR: ('title__icontains', '態'), ('discription__icontains', '態'))>,\n",
       " <Q: (OR: ('title__icontains', '素'), ('discription__icontains', '素'))>,\n",
       " <Q: (OR: ('title__icontains', '解'), ('discription__icontains', '解'))>,\n",
       " <Q: (OR: ('title__icontains', '析'), ('discription__icontains', '析'))>,\n",
       " <Q: (OR: ('title__icontains', ' '), ('discription__icontains', ' '))>,\n",
       " <Q: (OR: ('title__icontains', 'p'), ('discription__icontains', 'p'))>,\n",
       " <Q: (OR: ('title__icontains', 'y'), ('discription__icontains', 'y'))>,\n",
       " <Q: (OR: ('title__icontains', 't'), ('discription__icontains', 't'))>,\n",
       " <Q: (OR: ('title__icontains', 'h'), ('discription__icontains', 'h'))>,\n",
       " <Q: (OR: ('title__icontains', 'o'), ('discription__icontains', 'o'))>,\n",
       " <Q: (OR: ('title__icontains', 'n'), ('discription__icontains', 'n'))>]"
      ]
     },
     "execution_count": 22,
     "metadata": {},
     "output_type": "execute_result"
    }
   ],
   "source": [
    "[Q(title__icontains=q)|Q(discription__icontains=q) for q in keyword]"
   ]
  },
  {
   "cell_type": "code",
   "execution_count": 23,
   "metadata": {},
   "outputs": [
    {
     "data": {
      "text/plain": [
       "[<Q: (AND: ('title__icontains', 'm'), ('discription__icontains', 'm'))>,\n",
       " <Q: (AND: ('title__icontains', 'e'), ('discription__icontains', 'e'))>,\n",
       " <Q: (AND: ('title__icontains', 'c'), ('discription__icontains', 'c'))>,\n",
       " <Q: (AND: ('title__icontains', 'a'), ('discription__icontains', 'a'))>,\n",
       " <Q: (AND: ('title__icontains', 'b'), ('discription__icontains', 'b'))>,\n",
       " <Q: (AND: ('title__icontains', '\\u3000'), ('discription__icontains', '\\u3000'))>,\n",
       " <Q: (AND: ('title__icontains', '形'), ('discription__icontains', '形'))>,\n",
       " <Q: (AND: ('title__icontains', '態'), ('discription__icontains', '態'))>,\n",
       " <Q: (AND: ('title__icontains', '素'), ('discription__icontains', '素'))>,\n",
       " <Q: (AND: ('title__icontains', '解'), ('discription__icontains', '解'))>,\n",
       " <Q: (AND: ('title__icontains', '析'), ('discription__icontains', '析'))>,\n",
       " <Q: (AND: ('title__icontains', ' '), ('discription__icontains', ' '))>,\n",
       " <Q: (AND: ('title__icontains', 'p'), ('discription__icontains', 'p'))>,\n",
       " <Q: (AND: ('title__icontains', 'y'), ('discription__icontains', 'y'))>,\n",
       " <Q: (AND: ('title__icontains', 't'), ('discription__icontains', 't'))>,\n",
       " <Q: (AND: ('title__icontains', 'h'), ('discription__icontains', 'h'))>,\n",
       " <Q: (AND: ('title__icontains', 'o'), ('discription__icontains', 'o'))>,\n",
       " <Q: (AND: ('title__icontains', 'n'), ('discription__icontains', 'n'))>]"
      ]
     },
     "execution_count": 23,
     "metadata": {},
     "output_type": "execute_result"
    }
   ],
   "source": [
    "[Q(title__icontains=q)&Q(discription__icontains=q) for q in keyword]"
   ]
  },
  {
   "cell_type": "code",
   "execution_count": 24,
   "metadata": {},
   "outputs": [
    {
     "data": {
      "text/plain": [
       "[<Q: (AND: ('discription__icontains', 'm'))>,\n",
       " <Q: (AND: ('discription__icontains', 'e'))>,\n",
       " <Q: (AND: ('discription__icontains', 'c'))>,\n",
       " <Q: (AND: ('discription__icontains', 'a'))>,\n",
       " <Q: (AND: ('discription__icontains', 'b'))>,\n",
       " <Q: (AND: ('discription__icontains', '\\u3000'))>,\n",
       " <Q: (AND: ('discription__icontains', '形'))>,\n",
       " <Q: (AND: ('discription__icontains', '態'))>,\n",
       " <Q: (AND: ('discription__icontains', '素'))>,\n",
       " <Q: (AND: ('discription__icontains', '解'))>,\n",
       " <Q: (AND: ('discription__icontains', '析'))>,\n",
       " <Q: (AND: ('discription__icontains', ' '))>,\n",
       " <Q: (AND: ('discription__icontains', 'p'))>,\n",
       " <Q: (AND: ('discription__icontains', 'y'))>,\n",
       " <Q: (AND: ('discription__icontains', 't'))>,\n",
       " <Q: (AND: ('discription__icontains', 'h'))>,\n",
       " <Q: (AND: ('discription__icontains', 'o'))>,\n",
       " <Q: (AND: ('discription__icontains', 'n'))>]"
      ]
     },
     "execution_count": 24,
     "metadata": {},
     "output_type": "execute_result"
    }
   ],
   "source": [
    "[Q(discription__icontains=q) for q in keyword]"
   ]
  },
  {
   "cell_type": "code",
   "execution_count": 25,
   "metadata": {},
   "outputs": [
    {
     "ename": "TypeError",
     "evalue": "unsupported operand type(s) for &: 'str' and 'str'",
     "output_type": "error",
     "traceback": [
      "\u001b[0;31m---------------------------------------------------------------------------\u001b[0m",
      "\u001b[0;31mTypeError\u001b[0m                                 Traceback (most recent call last)",
      "\u001b[1;32m/Users/bishop/Desktop/igemwaseda_biotools/test.ipynb Cell 23'\u001b[0m in \u001b[0;36m<module>\u001b[0;34m\u001b[0m\n\u001b[0;32m----> <a href='vscode-notebook-cell:/Users/bishop/Desktop/igemwaseda_biotools/test.ipynb#ch0000028?line=0'>1</a>\u001b[0m reduce(and_, [\u001b[39m\"\u001b[39;49m\u001b[39ma\u001b[39;49m\u001b[39m\"\u001b[39;49m, \u001b[39m\"\u001b[39;49m\u001b[39mb\u001b[39;49m\u001b[39m\"\u001b[39;49m, \u001b[39m\"\u001b[39;49m\u001b[39ma\u001b[39;49m\u001b[39m\"\u001b[39;49m])\n",
      "\u001b[0;31mTypeError\u001b[0m: unsupported operand type(s) for &: 'str' and 'str'"
     ]
    }
   ],
   "source": [
    "reduce(and_, [\"a\", \"b\", \"a\"])"
   ]
  },
  {
   "cell_type": "code",
   "execution_count": null,
   "metadata": {},
   "outputs": [],
   "source": []
  }
 ],
 "metadata": {
  "interpreter": {
   "hash": "b93ae23b7538ee79e0a59fe55b5ee8bd008f440c137634b5a5f8ec66d56efcc5"
  },
  "kernelspec": {
   "display_name": "Python 3.9.10 ('test')",
   "language": "python",
   "name": "python3"
  },
  "language_info": {
   "codemirror_mode": {
    "name": "ipython",
    "version": 3
   },
   "file_extension": ".py",
   "mimetype": "text/x-python",
   "name": "python",
   "nbconvert_exporter": "python",
   "pygments_lexer": "ipython3",
   "version": "3.9.10"
  },
  "orig_nbformat": 4
 },
 "nbformat": 4,
 "nbformat_minor": 2
}
